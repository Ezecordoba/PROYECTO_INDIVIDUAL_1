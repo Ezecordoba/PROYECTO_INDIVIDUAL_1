{
 "cells": [
  {
   "cell_type": "markdown",
   "metadata": {},
   "source": [
    "# PROCESAMIENTO DE LOS DATOS DEL DATASET \"movies_dataset\""
   ]
  },
  {
   "cell_type": "markdown",
   "metadata": {},
   "source": [
    "Primero trabajemos con \"movie_dataset\""
   ]
  },
  {
   "cell_type": "markdown",
   "metadata": {},
   "source": [
    "El módulo \"ast\" (Abstract Syntax Trees) es útil para procesar texto que representa código Python o literales (como listas, diccionarios, números, etc.) de forma segura. Se utilizará para poder cambiar el tipo de dato a diccionario en las columnas a desanidar."
   ]
  },
  {
   "cell_type": "markdown",
   "metadata": {},
   "source": [
    "Creamos el dataframe movies"
   ]
  },
  {
   "cell_type": "code",
   "execution_count": 1,
   "metadata": {},
   "outputs": [],
   "source": [
    "import pandas as pd\n",
    "import numpy as np\n",
    "import ast\n",
    "import Funciones_normalizacion as fn"
   ]
  },
  {
   "cell_type": "code",
   "execution_count": 2,
   "metadata": {},
   "outputs": [
    {
     "name": "stderr",
     "output_type": "stream",
     "text": [
      "C:\\Users\\maria\\AppData\\Local\\Temp\\ipykernel_12484\\1867310481.py:1: DtypeWarning: Columns (10) have mixed types. Specify dtype option on import or set low_memory=False.\n",
      "  movies = pd.read_csv('./Database/movies_dataset.csv',delimiter = ',',encoding = \"utf-8\")\n"
     ]
    }
   ],
   "source": [
    "movies = pd.read_csv('./Database/movies_dataset.csv',delimiter = ',',encoding = \"utf-8\")"
   ]
  },
  {
   "cell_type": "code",
   "execution_count": 3,
   "metadata": {},
   "outputs": [
    {
     "data": {
      "text/plain": [
       "Index(['adult', 'belongs_to_collection', 'budget', 'genres', 'homepage', 'id',\n",
       "       'imdb_id', 'original_language', 'original_title', 'overview',\n",
       "       'popularity', 'poster_path', 'production_companies',\n",
       "       'production_countries', 'release_date', 'revenue', 'runtime',\n",
       "       'spoken_languages', 'status', 'tagline', 'title', 'video',\n",
       "       'vote_average', 'vote_count'],\n",
       "      dtype='object')"
      ]
     },
     "execution_count": 3,
     "metadata": {},
     "output_type": "execute_result"
    }
   ],
   "source": [
    "movies.columns"
   ]
  },
  {
   "cell_type": "markdown",
   "metadata": {},
   "source": [
    "Quiero eliminar el Id original y armarme yo uno nuevo "
   ]
  },
  {
   "cell_type": "code",
   "execution_count": 4,
   "metadata": {},
   "outputs": [],
   "source": [
    "movies=movies.rename(columns={\"id\": \"Id_movie_viejo\"})"
   ]
  },
  {
   "cell_type": "markdown",
   "metadata": {},
   "source": [
    "Lo siguiente es para ver la composición de los datos de cada columna y ver cuales hay que desanidar "
   ]
  },
  {
   "cell_type": "code",
   "execution_count": 5,
   "metadata": {},
   "outputs": [
    {
     "name": "stdout",
     "output_type": "stream",
     "text": [
      "columna: adult\n",
      "False\n",
      "-----------------------------------\n",
      "columna: belongs_to_collection\n",
      "{'id': 10194, 'name': 'Toy Story Collection', 'poster_path': '/7G9915LfUQ2lVfwMEEhDsn3kT4B.jpg', 'backdrop_path': '/9FBwqcd9IRruEDUrTdcaafOMKUq.jpg'}\n",
      "-----------------------------------\n",
      "columna: budget\n",
      "30000000\n",
      "-----------------------------------\n",
      "columna: genres\n",
      "[{'id': 16, 'name': 'Animation'}, {'id': 35, 'name': 'Comedy'}, {'id': 10751, 'name': 'Family'}]\n",
      "-----------------------------------\n",
      "columna: homepage\n",
      "http://toystory.disney.com/toy-story\n",
      "-----------------------------------\n",
      "columna: Id_movie_viejo\n",
      "862\n",
      "-----------------------------------\n",
      "columna: imdb_id\n",
      "tt0114709\n",
      "-----------------------------------\n",
      "columna: original_language\n",
      "en\n",
      "-----------------------------------\n",
      "columna: original_title\n",
      "Toy Story\n",
      "-----------------------------------\n",
      "columna: overview\n",
      "Led by Woody, Andy's toys live happily in his room until Andy's birthday brings Buzz Lightyear onto the scene. Afraid of losing his place in Andy's heart, Woody plots against Buzz. But when circumstances separate Buzz and Woody from their owner, the duo eventually learns to put aside their differences.\n",
      "-----------------------------------\n",
      "columna: popularity\n",
      "21.946943\n",
      "-----------------------------------\n",
      "columna: poster_path\n",
      "/rhIRbceoE9lR4veEXuwCC2wARtG.jpg\n",
      "-----------------------------------\n",
      "columna: production_companies\n",
      "[{'name': 'Pixar Animation Studios', 'id': 3}]\n",
      "-----------------------------------\n",
      "columna: production_countries\n",
      "[{'iso_3166_1': 'US', 'name': 'United States of America'}]\n",
      "-----------------------------------\n",
      "columna: release_date\n",
      "1995-10-30\n",
      "-----------------------------------\n",
      "columna: revenue\n",
      "373554033.0\n",
      "-----------------------------------\n",
      "columna: runtime\n",
      "81.0\n",
      "-----------------------------------\n",
      "columna: spoken_languages\n",
      "[{'iso_639_1': 'en', 'name': 'English'}]\n",
      "-----------------------------------\n",
      "columna: status\n",
      "Released\n",
      "-----------------------------------\n",
      "columna: tagline\n",
      "nan\n",
      "-----------------------------------\n",
      "columna: title\n",
      "Toy Story\n",
      "-----------------------------------\n",
      "columna: video\n",
      "False\n",
      "-----------------------------------\n",
      "columna: vote_average\n",
      "7.7\n",
      "-----------------------------------\n",
      "columna: vote_count\n",
      "5415.0\n",
      "-----------------------------------\n"
     ]
    }
   ],
   "source": [
    "for i in movies.columns:\n",
    "    print(f\"columna: {i}\")\n",
    "    print(movies[i][0])\n",
    "    print(\"-----------------------------------\")"
   ]
  },
  {
   "cell_type": "markdown",
   "metadata": {},
   "source": [
    "Las columnas para desanidar son:\n",
    "- belongs_to_collection: solo me importa la franquicia\n",
    "- genres: lista de 3 diccionarios. Los elementos de cada diccionario son \"id\" (cambiar nombre a \"Id_genre\") y \"name\" (cambiar a \"genre1\", \"genre1\",etc)\n",
    "- production_companies: listas de diccionarios. Los elementos de cada diccionario son \"name\" (cambiar a \"production_companie_1\", \"production_companie_2\", etc) y \"id\" (cambiar a \"Id_production_companie\")\n",
    "- production_countries: listas de diccionarios. Los elementos de cada diccionario son \"name\" (cambiar a \"production_countrie_1\", \"production_countrie_2\", etc), \"id\" (cambiar a \"Id_production_countrie\") y \"iso_3166_1\" (cambiar por \"countrie_code)\n",
    "- spoken_languages: listas de diccionarios. Los elementos de cada diccionario son \"name\" (cambiar a \"spoken_languages_1\", \"spoken_languages_2\", etc) y \"iso_639_1\" (cambiar por \"countrie_code)"
   ]
  },
  {
   "cell_type": "markdown",
   "metadata": {},
   "source": [
    "Eliminamos las columnas que no sean reelevantes para el analisis "
   ]
  },
  {
   "cell_type": "code",
   "execution_count": 6,
   "metadata": {},
   "outputs": [],
   "source": [
    "movies1=movies.drop(columns=[\"video\", \"imdb_id\", \"adult\", \"original_title\", \"homepage\",\"tagline\",\"poster_path\",\"spoken_languages\"])"
   ]
  },
  {
   "cell_type": "code",
   "execution_count": 7,
   "metadata": {},
   "outputs": [
    {
     "name": "stdout",
     "output_type": "stream",
     "text": [
      "<class 'pandas.core.frame.DataFrame'>\n",
      "RangeIndex: 45466 entries, 0 to 45465\n",
      "Data columns (total 16 columns):\n",
      " #   Column                 Non-Null Count  Dtype  \n",
      "---  ------                 --------------  -----  \n",
      " 0   belongs_to_collection  4494 non-null   object \n",
      " 1   budget                 45466 non-null  object \n",
      " 2   genres                 45466 non-null  object \n",
      " 3   Id_movie_viejo         45466 non-null  object \n",
      " 4   original_language      45455 non-null  object \n",
      " 5   overview               44512 non-null  object \n",
      " 6   popularity             45461 non-null  object \n",
      " 7   production_companies   45463 non-null  object \n",
      " 8   production_countries   45463 non-null  object \n",
      " 9   release_date           45379 non-null  object \n",
      " 10  revenue                45460 non-null  float64\n",
      " 11  runtime                45203 non-null  float64\n",
      " 12  status                 45379 non-null  object \n",
      " 13  title                  45460 non-null  object \n",
      " 14  vote_average           45460 non-null  float64\n",
      " 15  vote_count             45460 non-null  float64\n",
      "dtypes: float64(4), object(12)\n",
      "memory usage: 5.6+ MB\n"
     ]
    }
   ],
   "source": [
    "movies1.info()"
   ]
  },
  {
   "cell_type": "markdown",
   "metadata": {},
   "source": [
    "3) Desligamos la columna \"genres\""
   ]
  },
  {
   "cell_type": "code",
   "execution_count": 8,
   "metadata": {},
   "outputs": [
    {
     "name": "stdout",
     "output_type": "stream",
     "text": [
      "[{'id': 16, 'name': 'Animation'}, {'id': 35, 'name': 'Comedy'}, {'id': 10751, 'name': 'Family'}]\n",
      "<class 'str'>\n"
     ]
    }
   ],
   "source": [
    "print(movies1[\"genres\"][0])\n",
    "print(type(movies1[\"genres\"][0]))"
   ]
  },
  {
   "cell_type": "code",
   "execution_count": 9,
   "metadata": {},
   "outputs": [
    {
     "name": "stderr",
     "output_type": "stream",
     "text": [
      "c:\\Users\\maria\\Documents\\Ezequiel\\Eze\\HENRY\\TP_1\\Funciones_normalizacion.py:12: FutureWarning: The behavior of array concatenation with empty entries is deprecated. In a future version, this will no longer exclude empty items when determining the result dtype. To retain the old behavior, exclude the empty entries before the concat operation.\n",
      "  columna_df=pd.concat([columna_df.drop(columns=col_vieja), pd.json_normalize(df[col_vieja])], axis=1) # desanida las listas y elimina la col_vieja\n"
     ]
    },
    {
     "data": {
      "text/plain": [
       "0     [Animation, Comedy, Family]\n",
       "1    [Adventure, Fantasy, Family]\n",
       "2               [Romance, Comedy]\n",
       "3        [Comedy, Drama, Romance]\n",
       "4                        [Comedy]\n",
       "Name: genres, dtype: object"
      ]
     },
     "execution_count": 9,
     "metadata": {},
     "output_type": "execute_result"
    }
   ],
   "source": [
    "movies2=fn.columna_anidada(movies1,\"list\",\"genres\",\"name\")\n",
    "movies2[\"genres\"].head()"
   ]
  },
  {
   "cell_type": "markdown",
   "metadata": {},
   "source": [
    "Repetimos el proceso para desligar la columna \"production_companies\"\n"
   ]
  },
  {
   "cell_type": "code",
   "execution_count": 10,
   "metadata": {},
   "outputs": [
    {
     "name": "stdout",
     "output_type": "stream",
     "text": [
      "[{'name': 'Pixar Animation Studios', 'id': 3}]\n",
      "<class 'str'>\n"
     ]
    }
   ],
   "source": [
    "print(movies2[\"production_companies\"][0])\n",
    "print(type(movies2[\"production_companies\"][0]))"
   ]
  },
  {
   "cell_type": "code",
   "execution_count": 11,
   "metadata": {},
   "outputs": [
    {
     "name": "stderr",
     "output_type": "stream",
     "text": [
      "c:\\Users\\maria\\Documents\\Ezequiel\\Eze\\HENRY\\TP_1\\Funciones_normalizacion.py:12: FutureWarning: The behavior of array concatenation with empty entries is deprecated. In a future version, this will no longer exclude empty items when determining the result dtype. To retain the old behavior, exclude the empty entries before the concat operation.\n",
      "  columna_df=pd.concat([columna_df.drop(columns=col_vieja), pd.json_normalize(df[col_vieja])], axis=1) # desanida las listas y elimina la col_vieja\n"
     ]
    },
    {
     "data": {
      "text/plain": [
       "0                            [Pixar Animation Studios]\n",
       "1    [TriStar Pictures, Teitler Film, Interscope Co...\n",
       "2                       [Warner Bros., Lancaster Gate]\n",
       "3             [Twentieth Century Fox Film Corporation]\n",
       "4         [Sandollar Productions, Touchstone Pictures]\n",
       "Name: production_companies, dtype: object"
      ]
     },
     "execution_count": 11,
     "metadata": {},
     "output_type": "execute_result"
    }
   ],
   "source": [
    "movies3=fn.columna_anidada(movies2,\"list\",\"production_companies\",\"name\")\n",
    "movies3[\"production_companies\"].head()"
   ]
  },
  {
   "cell_type": "markdown",
   "metadata": {},
   "source": [
    "Repetimos el proceso para \"production_contries\""
   ]
  },
  {
   "cell_type": "code",
   "execution_count": 12,
   "metadata": {},
   "outputs": [
    {
     "name": "stdout",
     "output_type": "stream",
     "text": [
      "[{'iso_3166_1': 'US', 'name': 'United States of America'}]\n",
      "<class 'str'>\n"
     ]
    }
   ],
   "source": [
    "print(movies3[\"production_countries\"][0])\n",
    "print(type(movies3[\"production_countries\"][0]))"
   ]
  },
  {
   "cell_type": "code",
   "execution_count": 13,
   "metadata": {},
   "outputs": [
    {
     "name": "stderr",
     "output_type": "stream",
     "text": [
      "c:\\Users\\maria\\Documents\\Ezequiel\\Eze\\HENRY\\TP_1\\Funciones_normalizacion.py:12: FutureWarning: The behavior of array concatenation with empty entries is deprecated. In a future version, this will no longer exclude empty items when determining the result dtype. To retain the old behavior, exclude the empty entries before the concat operation.\n",
      "  columna_df=pd.concat([columna_df.drop(columns=col_vieja), pd.json_normalize(df[col_vieja])], axis=1) # desanida las listas y elimina la col_vieja\n"
     ]
    },
    {
     "data": {
      "text/plain": [
       "0    [United States of America]\n",
       "1    [United States of America]\n",
       "2    [United States of America]\n",
       "3    [United States of America]\n",
       "4    [United States of America]\n",
       "Name: production_countries, dtype: object"
      ]
     },
     "execution_count": 13,
     "metadata": {},
     "output_type": "execute_result"
    }
   ],
   "source": [
    "movies4=fn.columna_anidada(movies3,\"list\",\"production_countries\",\"name\")\n",
    "movies4[\"production_countries\"].head()"
   ]
  },
  {
   "cell_type": "markdown",
   "metadata": {},
   "source": [
    "Hacemos lo mismo con la columna \"belongs_to_collection\" y nos quedamos solo con el nombre de la franquisia"
   ]
  },
  {
   "cell_type": "code",
   "execution_count": 14,
   "metadata": {},
   "outputs": [
    {
     "name": "stdout",
     "output_type": "stream",
     "text": [
      "{'id': 10194, 'name': 'Toy Story Collection', 'poster_path': '/7G9915LfUQ2lVfwMEEhDsn3kT4B.jpg', 'backdrop_path': '/9FBwqcd9IRruEDUrTdcaafOMKUq.jpg'}\n",
      "<class 'str'>\n"
     ]
    }
   ],
   "source": [
    "print(movies4[\"belongs_to_collection\"][0])\n",
    "print(type(movies4[\"belongs_to_collection\"][0]))\n"
   ]
  },
  {
   "cell_type": "code",
   "execution_count": 15,
   "metadata": {},
   "outputs": [
    {
     "name": "stderr",
     "output_type": "stream",
     "text": [
      "c:\\Users\\maria\\Documents\\Ezequiel\\Eze\\HENRY\\TP_1\\Funciones_normalizacion.py:38: FutureWarning: A value is trying to be set on a copy of a DataFrame or Series through chained assignment using an inplace method.\n",
      "The behavior will change in pandas 3.0. This inplace method will never work because the intermediate object on which we are setting values always behaves as a copy.\n",
      "\n",
      "For example, when doing 'df[col].method(value, inplace=True)', try using 'df.method({col: value}, inplace=True)' or df[col] = df[col].method(value) instead, to perform the operation inplace on the original object.\n",
      "\n",
      "\n",
      "  columna_df[key].fillna(\"Sin Dato\",inplace=True)\n"
     ]
    },
    {
     "data": {
      "text/plain": [
       "0              Toy Story Collection\n",
       "1                          Sin Dato\n",
       "2         Grumpy Old Men Collection\n",
       "3                          Sin Dato\n",
       "4    Father of the Bride Collection\n",
       "Name: franchise, dtype: object"
      ]
     },
     "execution_count": 15,
     "metadata": {},
     "output_type": "execute_result"
    }
   ],
   "source": [
    "movies5=fn.columna_anidada(movies4,\"dicc\",\"belongs_to_collection\",\"name\")\n",
    "movies5=movies5.rename(columns={\"belongs_to_collection\":\"franchise\"})\n",
    "movies5[\"franchise\"].head()"
   ]
  },
  {
   "cell_type": "markdown",
   "metadata": {},
   "source": [
    "Cambiamos los valores vacíos de las columnas 'revenue' y 'budget' por 0. Creamos una nueva columna \"return\" con el cosiente revenue/budget "
   ]
  },
  {
   "cell_type": "code",
   "execution_count": 16,
   "metadata": {},
   "outputs": [
    {
     "name": "stdout",
     "output_type": "stream",
     "text": [
      "<class 'numpy.float64'>\n",
      "<class 'str'>\n"
     ]
    }
   ],
   "source": [
    "print(type(movies5.loc[0,\"revenue\"]))\n",
    "print(type(movies5.loc[0,\"budget\"]))"
   ]
  },
  {
   "cell_type": "code",
   "execution_count": 17,
   "metadata": {},
   "outputs": [
    {
     "name": "stdout",
     "output_type": "stream",
     "text": [
      "valores anómalos de 'budget' originales:\n",
      "19730 /ff9qCepilowshEtG2GYWwzt2bs4.jpg\n",
      "29503 /zV8bHuSL6WXoD6FWogP9j4x80bL.jpg\n",
      "35587 /zaSf5OG7V8X8gqFvly88zDdRm46.jpg\n",
      " \n",
      "valores anómalos de 'budget' corregidos:\n",
      "0\n",
      "0\n",
      "0\n"
     ]
    }
   ],
   "source": [
    "indices=[]\n",
    "print(\"valores anómalos de 'budget' originales:\")\n",
    "for i in range(movies5.shape[0]):\n",
    "    if len(movies5.loc[i,\"budget\"])>9:\n",
    "        print(i, movies5.loc[i,\"budget\"])\n",
    "        movies5.loc[i,\"budget\"]=0\n",
    "        indices.append(i)\n",
    "print(\" \")             \n",
    "print(\"valores anómalos de 'budget' corregidos:\")\n",
    "for i in indices:\n",
    "    print(movies5.loc[i,\"budget\"])"
   ]
  },
  {
   "cell_type": "code",
   "execution_count": 18,
   "metadata": {},
   "outputs": [],
   "source": [
    "movies5[\"budget\"]=movies5[\"budget\"].apply(lambda x: ast.literal_eval(x) if isinstance(x, str) else x)\n",
    "movies5[\"revenue\"]=movies5[\"revenue\"].fillna(0)\n",
    "movies5[\"budget\"]=movies5[\"budget\"].fillna(0)\n",
    "\n",
    "cociente=[]\n",
    "for i in range(movies5.shape[0]):\n",
    "    if movies5.loc[i,\"budget\"]!=0:\n",
    "        cociente.append(movies5.loc[i,\"revenue\"]/movies5.loc[i,\"budget\"])\n",
    "    else:\n",
    "        cociente.append(0)\n",
    "\n",
    "dicc={\"return\":cociente}\n",
    "return_df=pd.DataFrame(dicc)\n",
    "return_df[\"return\"]=return_df[\"return\"].round(2)\n",
    "movies6=pd.concat([movies5, return_df], axis=1)"
   ]
  },
  {
   "cell_type": "markdown",
   "metadata": {},
   "source": [
    "Eliminamos los valores nulos del campo \"release_date\" eliminarse."
   ]
  },
  {
   "cell_type": "code",
   "execution_count": 19,
   "metadata": {},
   "outputs": [
    {
     "name": "stdout",
     "output_type": "stream",
     "text": [
      "<class 'pandas.core.frame.DataFrame'>\n",
      "RangeIndex: 45466 entries, 0 to 45465\n",
      "Data columns (total 17 columns):\n",
      " #   Column                Non-Null Count  Dtype  \n",
      "---  ------                --------------  -----  \n",
      " 0   budget                45466 non-null  int64  \n",
      " 1   Id_movie_viejo        45466 non-null  object \n",
      " 2   original_language     45455 non-null  object \n",
      " 3   overview              44512 non-null  object \n",
      " 4   popularity            45461 non-null  object \n",
      " 5   release_date          45379 non-null  object \n",
      " 6   revenue               45466 non-null  float64\n",
      " 7   runtime               45203 non-null  float64\n",
      " 8   status                45379 non-null  object \n",
      " 9   title                 45460 non-null  object \n",
      " 10  vote_average          45460 non-null  float64\n",
      " 11  vote_count            45460 non-null  float64\n",
      " 12  genres                45466 non-null  object \n",
      " 13  production_companies  45466 non-null  object \n",
      " 14  production_countries  45466 non-null  object \n",
      " 15  franchise             45466 non-null  object \n",
      " 16  return                45466 non-null  float64\n",
      "dtypes: float64(5), int64(1), object(11)\n",
      "memory usage: 5.9+ MB\n"
     ]
    }
   ],
   "source": [
    "movies6.info()"
   ]
  },
  {
   "cell_type": "code",
   "execution_count": null,
   "metadata": {},
   "outputs": [
    {
     "name": "stdout",
     "output_type": "stream",
     "text": [
      "<class 'pandas.core.frame.DataFrame'>\n",
      "Index: 45379 entries, 0 to 45465\n",
      "Data columns (total 17 columns):\n",
      " #   Column                Non-Null Count  Dtype  \n",
      "---  ------                --------------  -----  \n",
      " 0   budget                45379 non-null  int64  \n",
      " 1   Id_movie_viejo        45379 non-null  object \n",
      " 2   original_language     45368 non-null  object \n",
      " 3   overview              44438 non-null  object \n",
      " 4   popularity            45377 non-null  object \n",
      " 5   release_date          45379 non-null  object \n",
      " 6   revenue               45379 non-null  float64\n",
      " 7   runtime               45130 non-null  float64\n",
      " 8   status                45296 non-null  object \n",
      " 9   title                 45376 non-null  object \n",
      " 10  vote_average          45376 non-null  float64\n",
      " 11  vote_count            45376 non-null  float64\n",
      " 12  genres                45379 non-null  object \n",
      " 13  production_companies  45379 non-null  object \n",
      " 14  production_countries  45379 non-null  object \n",
      " 15  franchise             45379 non-null  object \n",
      " 16  return                45379 non-null  float64\n",
      "dtypes: float64(5), int64(1), object(11)\n",
      "memory usage: 6.2+ MB\n"
     ]
    }
   ],
   "source": [
    "movies6=movies6.dropna(subset=\"release_date\")\n",
    "movies6.info()"
   ]
  },
  {
   "cell_type": "markdown",
   "metadata": {},
   "source": [
    "Trabajamos la columna \"release_date\" y creamos una columna \"release_year\" con el año de estreno "
   ]
  },
  {
   "cell_type": "code",
   "execution_count": 21,
   "metadata": {},
   "outputs": [
    {
     "name": "stdout",
     "output_type": "stream",
     "text": [
      "Tipo de dato en la columna relase_date antes de transformarlo: <class 'str'>\n",
      "Tipo de dato en la columna relase_date luego de transformarlo: <class 'pandas._libs.tslibs.timestamps.Timestamp'>\n",
      "Cantidad de valores NaT: 3\n"
     ]
    }
   ],
   "source": [
    "print(f\"Tipo de dato en la columna relase_date antes de transformarlo: {type(movies6.loc[0,'release_date'])}\")\n",
    "movies6[\"release_date\"] = pd.to_datetime(movies6[\"release_date\"],errors='coerce') #convierte las entradas en tipo datetime y las que no sean fechas quedan como NaT\n",
    "print(f\"Tipo de dato en la columna relase_date luego de transformarlo: {type(movies6.loc[0,'release_date'])}\")\n",
    "cantidad_nat=movies6[\"release_date\"].isna().sum()\n",
    "print(f\"Cantidad de valores NaT: {cantidad_nat}\")\n",
    "\n",
    "# Eliminamos esos valores Nat\n",
    "movies6=movies6.dropna(subset=\"release_date\")"
   ]
  },
  {
   "cell_type": "code",
   "execution_count": 22,
   "metadata": {},
   "outputs": [
    {
     "name": "stdout",
     "output_type": "stream",
     "text": [
      "<class 'pandas.core.frame.DataFrame'>\n",
      "Index: 45376 entries, 0 to 45465\n",
      "Data columns (total 17 columns):\n",
      " #   Column                Non-Null Count  Dtype         \n",
      "---  ------                --------------  -----         \n",
      " 0   budget                45376 non-null  int64         \n",
      " 1   Id_movie_viejo        45376 non-null  object        \n",
      " 2   original_language     45365 non-null  object        \n",
      " 3   overview              44435 non-null  object        \n",
      " 4   popularity            45376 non-null  object        \n",
      " 5   release_date          45376 non-null  datetime64[ns]\n",
      " 6   revenue               45376 non-null  float64       \n",
      " 7   runtime               45130 non-null  float64       \n",
      " 8   status                45296 non-null  object        \n",
      " 9   title                 45376 non-null  object        \n",
      " 10  vote_average          45376 non-null  float64       \n",
      " 11  vote_count            45376 non-null  float64       \n",
      " 12  genres                45376 non-null  object        \n",
      " 13  production_companies  45376 non-null  object        \n",
      " 14  production_countries  45376 non-null  object        \n",
      " 15  franchise             45376 non-null  object        \n",
      " 16  return                45376 non-null  float64       \n",
      "dtypes: datetime64[ns](1), float64(5), int64(1), object(10)\n",
      "memory usage: 6.2+ MB\n"
     ]
    }
   ],
   "source": [
    "movies6.info()"
   ]
  },
  {
   "cell_type": "code",
   "execution_count": 23,
   "metadata": {},
   "outputs": [
    {
     "data": {
      "text/plain": [
       "Index(['budget', 'Id_movie_viejo', 'original_language', 'overview',\n",
       "       'popularity', 'release_date', 'revenue', 'runtime', 'status', 'title',\n",
       "       'vote_average', 'vote_count', 'genres', 'production_companies',\n",
       "       'production_countries', 'franchise', 'return', 'release_year'],\n",
       "      dtype='object')"
      ]
     },
     "execution_count": 23,
     "metadata": {},
     "output_type": "execute_result"
    }
   ],
   "source": [
    "# Creo la columna realase_year\n",
    "movies6[\"release_year\"] = movies6[\"release_date\"].dt.year\n",
    "movies6.columns"
   ]
  },
  {
   "cell_type": "markdown",
   "metadata": {},
   "source": [
    "Armo una nueva columa de Id_movies y traemos los ids de franchise, status y languages"
   ]
  },
  {
   "cell_type": "code",
   "execution_count": 24,
   "metadata": {},
   "outputs": [],
   "source": [
    "#convertimos los tipos de datos de las columnas a lo que deberías ser \n",
    "movies6=movies6.rename(columns={\"runtime\":\"duration\"})\n",
    "movies6[\"budget\"]=movies6[\"budget\"].apply(lambda x: ast.literal_eval(x) if isinstance(x, str) else x)\n",
    "movies6[\"Id_movie_viejo\"]=movies6[\"Id_movie_viejo\"].apply(lambda x: ast.literal_eval(x) if isinstance(x, str) else x)\n",
    "movies6[\"popularity\"]=movies6[\"popularity\"].apply(lambda x: ast.literal_eval(x) if isinstance(x, str) else x)\n",
    "movies6[\"revenue\"]=movies6[\"revenue\"].apply(lambda x: ast.literal_eval(x) if isinstance(x, str) else x)\n",
    "movies6[\"duration\"]=movies6[\"duration\"].apply(lambda x: ast.literal_eval(x) if isinstance(x, str) else x)\n",
    "movies6[\"vote_average\"]=movies6[\"vote_average\"].apply(lambda x: ast.literal_eval(x) if isinstance(x, str) else x)\n",
    "movies6[\"vote_count\"]=movies6[\"vote_count\"].apply(lambda x: ast.literal_eval(x) if isinstance(x, str) else x)\n",
    "movies6[\"return\"]=movies6[\"return\"].apply(lambda x: ast.literal_eval(x) if isinstance(x, str) else x)\n",
    "movies6[\"genres\"]=movies6[\"genres\"].apply(lambda x: ast.literal_eval(x) if isinstance(x, str) else x)\n",
    "movies6[\"production_companies\"]=movies6[\"production_companies\"].apply(lambda x: ast.literal_eval(x) if isinstance(x, str) else x)\n",
    "movies6[\"production_countries\"]=movies6[\"production_countries\"].apply(lambda x: ast.literal_eval(x) if isinstance(x, str) else x)"
   ]
  },
  {
   "cell_type": "code",
   "execution_count": 25,
   "metadata": {},
   "outputs": [],
   "source": [
    "movies6[\"duration\"]=movies6[\"duration\"].fillna(\"0\")\n",
    "movies6[\"status\"]=movies6[\"status\"].fillna(\"Sin Dato\")\n",
    "movies6[\"original_language\"]=movies6[\"original_language\"].fillna(\"Sin Dato\")"
   ]
  },
  {
   "cell_type": "code",
   "execution_count": 26,
   "metadata": {},
   "outputs": [],
   "source": [
    "franchise_df=pd.read_csv('./Database/franchise.csv',delimiter = ',',encoding = \"utf-8\")\n",
    "status_df=pd.read_csv('./Database/status.csv',delimiter = ',',encoding = \"utf-8\")\n",
    "languages_df=pd.read_csv('./Database/languages.csv',delimiter = ',',encoding = \"utf-8\")\n",
    "titles_df=pd.read_csv('./Database/titles.csv',delimiter = ',',encoding = \"utf-8\")\n",
    "\n",
    "movies6=movies6.rename(columns={\"original_language\":\"language\"})\n",
    "\n",
    "movies7=movies6.merge(franchise_df[[\"franchise\", \"Id_franchise\"]], left_on=\"franchise\", right_on=\"franchise\", how=\"left\")\n",
    "movies7=movies7.merge(status_df[[\"status\", \"Id_status\"]], left_on=\"status\", right_on=\"status\", how=\"left\")\n",
    "movies7=movies7.merge(languages_df[[\"language\", \"Id_language\"]], left_on=\"language\", right_on=\"language\", how=\"left\")\n",
    "movies7=movies7.merge(titles_df[[\"Id_movie_viejo\", \"Id_movie\"]], left_on=\"Id_movie_viejo\", right_on=\"Id_movie_viejo\", how=\"left\")"
   ]
  },
  {
   "cell_type": "code",
   "execution_count": 27,
   "metadata": {},
   "outputs": [
    {
     "name": "stdout",
     "output_type": "stream",
     "text": [
      "<class 'pandas.core.frame.DataFrame'>\n",
      "RangeIndex: 45376 entries, 0 to 45375\n",
      "Data columns (total 22 columns):\n",
      " #   Column                Non-Null Count  Dtype         \n",
      "---  ------                --------------  -----         \n",
      " 0   budget                45376 non-null  int64         \n",
      " 1   Id_movie_viejo        45376 non-null  int64         \n",
      " 2   language              45376 non-null  object        \n",
      " 3   overview              44435 non-null  object        \n",
      " 4   popularity            45376 non-null  float64       \n",
      " 5   release_date          45376 non-null  datetime64[ns]\n",
      " 6   revenue               45376 non-null  float64       \n",
      " 7   duration              45376 non-null  object        \n",
      " 8   status                45376 non-null  object        \n",
      " 9   title                 45376 non-null  object        \n",
      " 10  vote_average          45376 non-null  float64       \n",
      " 11  vote_count            45376 non-null  float64       \n",
      " 12  genres                45376 non-null  object        \n",
      " 13  production_companies  45376 non-null  object        \n",
      " 14  production_countries  45376 non-null  object        \n",
      " 15  franchise             45376 non-null  object        \n",
      " 16  return                45376 non-null  float64       \n",
      " 17  release_year          45376 non-null  int32         \n",
      " 18  Id_franchise          45376 non-null  int64         \n",
      " 19  Id_status             45376 non-null  int64         \n",
      " 20  Id_language           45376 non-null  int64         \n",
      " 21  Id_movie              45376 non-null  int64         \n",
      "dtypes: datetime64[ns](1), float64(5), int32(1), int64(6), object(9)\n",
      "memory usage: 7.4+ MB\n"
     ]
    }
   ],
   "source": [
    "movies7.info()"
   ]
  },
  {
   "cell_type": "markdown",
   "metadata": {},
   "source": [
    "Elimino las columnas que estan en las tablas de dimensiones"
   ]
  },
  {
   "cell_type": "code",
   "execution_count": 28,
   "metadata": {},
   "outputs": [],
   "source": [
    "movies7.drop(columns=[\"Id_movie_viejo\",\"title\",\"franchise\",\"status\",\"language\"],inplace=True)"
   ]
  },
  {
   "cell_type": "markdown",
   "metadata": {},
   "source": [
    "Eliminamos duplicados de la columna id_movie"
   ]
  },
  {
   "cell_type": "code",
   "execution_count": 29,
   "metadata": {},
   "outputs": [
    {
     "data": {
      "text/plain": [
       "(45376, 17)"
      ]
     },
     "execution_count": 29,
     "metadata": {},
     "output_type": "execute_result"
    }
   ],
   "source": [
    "movies7.shape"
   ]
  },
  {
   "cell_type": "code",
   "execution_count": 30,
   "metadata": {},
   "outputs": [],
   "source": [
    "movies8=movies7.drop_duplicates(subset=\"Id_movie\",ignore_index=True)"
   ]
  },
  {
   "cell_type": "code",
   "execution_count": 31,
   "metadata": {},
   "outputs": [
    {
     "data": {
      "text/plain": [
       "(45346, 17)"
      ]
     },
     "execution_count": 31,
     "metadata": {},
     "output_type": "execute_result"
    }
   ],
   "source": [
    "movies8.shape"
   ]
  },
  {
   "cell_type": "code",
   "execution_count": 32,
   "metadata": {},
   "outputs": [
    {
     "name": "stdout",
     "output_type": "stream",
     "text": [
      "<class 'pandas.core.frame.DataFrame'>\n",
      "RangeIndex: 45346 entries, 0 to 45345\n",
      "Data columns (total 17 columns):\n",
      " #   Column                Non-Null Count  Dtype         \n",
      "---  ------                --------------  -----         \n",
      " 0   budget                45346 non-null  int64         \n",
      " 1   overview              44405 non-null  object        \n",
      " 2   popularity            45346 non-null  float64       \n",
      " 3   release_date          45346 non-null  datetime64[ns]\n",
      " 4   revenue               45346 non-null  float64       \n",
      " 5   duration              45346 non-null  object        \n",
      " 6   vote_average          45346 non-null  float64       \n",
      " 7   vote_count            45346 non-null  float64       \n",
      " 8   genres                45346 non-null  object        \n",
      " 9   production_companies  45346 non-null  object        \n",
      " 10  production_countries  45346 non-null  object        \n",
      " 11  return                45346 non-null  float64       \n",
      " 12  release_year          45346 non-null  int32         \n",
      " 13  Id_franchise          45346 non-null  int64         \n",
      " 14  Id_status             45346 non-null  int64         \n",
      " 15  Id_language           45346 non-null  int64         \n",
      " 16  Id_movie              45346 non-null  int64         \n",
      "dtypes: datetime64[ns](1), float64(5), int32(1), int64(5), object(5)\n",
      "memory usage: 5.7+ MB\n"
     ]
    }
   ],
   "source": [
    "movies8.info()"
   ]
  },
  {
   "cell_type": "code",
   "execution_count": 33,
   "metadata": {},
   "outputs": [
    {
     "name": "stderr",
     "output_type": "stream",
     "text": [
      "C:\\Users\\maria\\AppData\\Local\\Temp\\ipykernel_12484\\1556037301.py:1: SettingWithCopyWarning: \n",
      "A value is trying to be set on a copy of a slice from a DataFrame.\n",
      "Try using .loc[row_indexer,col_indexer] = value instead\n",
      "\n",
      "See the caveats in the documentation: https://pandas.pydata.org/pandas-docs/stable/user_guide/indexing.html#returning-a-view-versus-a-copy\n",
      "  movies8[\"overview\"]=movies8[\"overview\"].fillna(\" \")\n"
     ]
    }
   ],
   "source": [
    "movies8[\"overview\"]=movies8[\"overview\"].fillna(\" \")"
   ]
  },
  {
   "cell_type": "code",
   "execution_count": 34,
   "metadata": {},
   "outputs": [
    {
     "name": "stdout",
     "output_type": "stream",
     "text": [
      "<class 'pandas.core.frame.DataFrame'>\n",
      "RangeIndex: 45346 entries, 0 to 45345\n",
      "Data columns (total 17 columns):\n",
      " #   Column                Non-Null Count  Dtype         \n",
      "---  ------                --------------  -----         \n",
      " 0   budget                45346 non-null  int64         \n",
      " 1   overview              45346 non-null  object        \n",
      " 2   popularity            45346 non-null  float64       \n",
      " 3   release_date          45346 non-null  datetime64[ns]\n",
      " 4   revenue               45346 non-null  float64       \n",
      " 5   duration              45346 non-null  object        \n",
      " 6   vote_average          45346 non-null  float64       \n",
      " 7   vote_count            45346 non-null  float64       \n",
      " 8   genres                45346 non-null  object        \n",
      " 9   production_companies  45346 non-null  object        \n",
      " 10  production_countries  45346 non-null  object        \n",
      " 11  return                45346 non-null  float64       \n",
      " 12  release_year          45346 non-null  int32         \n",
      " 13  Id_franchise          45346 non-null  int64         \n",
      " 14  Id_status             45346 non-null  int64         \n",
      " 15  Id_language           45346 non-null  int64         \n",
      " 16  Id_movie              45346 non-null  int64         \n",
      "dtypes: datetime64[ns](1), float64(5), int32(1), int64(5), object(5)\n",
      "memory usage: 5.7+ MB\n"
     ]
    }
   ],
   "source": [
    "movies8.info()"
   ]
  },
  {
   "cell_type": "code",
   "execution_count": 35,
   "metadata": {},
   "outputs": [],
   "source": [
    "movies8.to_csv('./Database/movies_normalizado.csv',index=False)"
   ]
  }
 ],
 "metadata": {
  "kernelspec": {
   "display_name": "Python 3",
   "language": "python",
   "name": "python3"
  },
  "language_info": {
   "codemirror_mode": {
    "name": "ipython",
    "version": 3
   },
   "file_extension": ".py",
   "mimetype": "text/x-python",
   "name": "python",
   "nbconvert_exporter": "python",
   "pygments_lexer": "ipython3",
   "version": "3.11.9"
  }
 },
 "nbformat": 4,
 "nbformat_minor": 2
}
