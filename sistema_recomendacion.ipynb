{
 "cells": [
  {
   "cell_type": "code",
   "execution_count": 3,
   "metadata": {},
   "outputs": [],
   "source": [
    "import ast\n",
    "import nltk\n",
    "from rake_nltk import Rake\n",
    "#nltk.download('stopwords')\n",
    "import pandas as pd\n",
    "import numpy as np\n",
    "from sklearn.metrics.pairwise import cosine_similarity\n",
    "from sklearn.feature_extraction.text import CountVectorizer\n",
    "import unicodedata as un\n",
    "import Funciones_recomendacion as fr\n"
   ]
  },
  {
   "cell_type": "code",
   "execution_count": 4,
   "metadata": {},
   "outputs": [],
   "source": [
    "#cargo los dataframes\n",
    "movies=pd.read_csv('./Database/movies_normalizado.csv',delimiter = ',',encoding = \"utf-8\")\n",
    "titles=pd.read_csv('./Database/titles.csv',delimiter = ',',encoding = \"utf-8\")\n",
    "franchises=pd.read_csv('./Database/franchise.csv',delimiter = ',',encoding = \"utf-8\")\n",
    "languages=pd.read_csv('./Database/languages.csv',delimiter = ',',encoding = \"utf-8\")\n",
    "credit=pd.read_csv('./Database/credits_normalizado.csv',delimiter = ',',encoding = \"utf-8\")"
   ]
  },
  {
   "cell_type": "code",
   "execution_count": 5,
   "metadata": {},
   "outputs": [],
   "source": [
    "#pongo las columnas a utilizar en el dataframe movies\n",
    "movies=movies.merge(titles[[\"Id_movie\", \"title\"]], left_on=\"Id_movie\", right_on=\"Id_movie\", how=\"left\")\n",
    "movies=movies.merge(franchises[[\"Id_franchise\", \"franchise\"]], left_on=\"Id_franchise\", right_on=\"Id_franchise\", how=\"left\")\n",
    "movies=movies.merge(languages[[\"Id_language\", \"language\"]], left_on=\"Id_language\", right_on=\"Id_language\", how=\"left\")\n",
    "movies=movies.merge(credit[[\"Id_movie\", \"actors\"]], left_on=\"Id_movie\", right_on=\"Id_movie\", how=\"left\")\n",
    "movies=movies.merge(credit[[\"Id_movie\", \"directors\"]], left_on=\"Id_movie\", right_on=\"Id_movie\", how=\"left\")"
   ]
  },
  {
   "cell_type": "code",
   "execution_count": 6,
   "metadata": {},
   "outputs": [],
   "source": [
    "#Como nos interesa combinar los textos, vamos a buscar llenar las entradas Nan con listas vacías o espacios vacíos de tipo str\n",
    "movies[\"actors\"]=movies[\"actors\"].fillna(\"[]\")\n",
    "movies[\"directors\"]=movies[\"directors\"].fillna(\"[]\")\n",
    "movies[\"franchise\"]=movies[\"franchise\"].replace(\"Sin Dato\", \" \")\n",
    "movies[\"language\"]=movies[\"language\"].replace(\"Sin Dato\", \" \")"
   ]
  },
  {
   "cell_type": "code",
   "execution_count": 7,
   "metadata": {},
   "outputs": [],
   "source": [
    "#creo un dataframe con solamente las columnas con texto para combinar \n",
    "dicc={\"titulo\":movies[\"title\"],\n",
    "      \"descripcion\":movies[\"overview\"],\n",
    "      \"lenguaje\":movies[\"language\"],\n",
    "      \"franquicia\":movies[\"franchise\"],\n",
    "      \"generos\":movies[\"genres\"],\n",
    "      \"companias\":movies[\"production_companies\"],\n",
    "      \"actores\":movies[\"actors\"],\n",
    "      \"directores\":movies[\"directors\"]}\n",
    "texto=pd.DataFrame(dicc)"
   ]
  },
  {
   "cell_type": "code",
   "execution_count": 8,
   "metadata": {},
   "outputs": [],
   "source": [
    "texto.to_csv('./Sistema_de_recomendacion/texto_peliculas.csv',index=False) "
   ]
  },
  {
   "cell_type": "markdown",
   "metadata": {},
   "source": [
    "Calculemos la matriz de comparación y las recomendaciones por separado. La ventaja es que se calcula la matriz una vez con los datos actuales (lento) y luego se puede pedir recomendaciones a partir de cualquier película (rápido)."
   ]
  },
  {
   "cell_type": "code",
   "execution_count": 11,
   "metadata": {},
   "outputs": [
    {
     "name": "stdout",
     "output_type": "stream",
     "text": [
      "Procesando bloque 0-1000\n",
      "Procesando bloque 1000-2000\n",
      "Procesando bloque 2000-3000\n",
      "Procesando bloque 3000-4000\n",
      "Procesando bloque 4000-5000\n",
      "Procesando bloque 5000-6000\n",
      "Procesando bloque 6000-7000\n",
      "Procesando bloque 7000-8000\n",
      "Procesando bloque 8000-9000\n",
      "Procesando bloque 9000-10000\n",
      "Procesando bloque 10000-11000\n",
      "Procesando bloque 11000-12000\n",
      "Procesando bloque 12000-13000\n",
      "Procesando bloque 13000-14000\n",
      "Procesando bloque 14000-15000\n",
      "Procesando bloque 15000-16000\n",
      "Procesando bloque 16000-17000\n",
      "Procesando bloque 17000-18000\n",
      "Procesando bloque 18000-19000\n",
      "Procesando bloque 19000-20000\n",
      "Procesando bloque 20000-21000\n",
      "Procesando bloque 21000-22000\n",
      "Procesando bloque 22000-23000\n",
      "Procesando bloque 23000-24000\n",
      "Procesando bloque 24000-25000\n",
      "Procesando bloque 25000-26000\n",
      "Procesando bloque 26000-27000\n",
      "Procesando bloque 27000-28000\n",
      "Procesando bloque 28000-29000\n",
      "Procesando bloque 29000-30000\n",
      "Procesando bloque 30000-31000\n",
      "Procesando bloque 31000-32000\n",
      "Procesando bloque 32000-33000\n",
      "Procesando bloque 33000-34000\n",
      "Procesando bloque 34000-35000\n",
      "Procesando bloque 35000-36000\n",
      "Procesando bloque 36000-37000\n",
      "Procesando bloque 37000-38000\n",
      "Procesando bloque 38000-39000\n",
      "Procesando bloque 39000-40000\n",
      "Procesando bloque 40000-41000\n",
      "Procesando bloque 41000-42000\n",
      "Procesando bloque 42000-43000\n",
      "Procesando bloque 43000-44000\n",
      "Procesando bloque 44000-45000\n",
      "Procesando bloque 45000-45346\n"
     ]
    }
   ],
   "source": [
    "# Se calcula la matriz de comparacion a partir de la similitud del coseno\n",
    "matriz_primeros_vecinos=fr.matriz_k_vecinos_sim_cos(texto)\n",
    "# Se gurada la matriz en un archivo numpy para poder tenerla a mano sin necesidad de crearla de nuevo (cosa que no queremos hacer debido a lo largo del proceso)\n",
    "np.save(\"./Sistema_de_recomendacion/matriz_k_vecinos.npy\", matriz_primeros_vecinos)"
   ]
  },
  {
   "cell_type": "code",
   "execution_count": 12,
   "metadata": {},
   "outputs": [
    {
     "name": "stdout",
     "output_type": "stream",
     "text": [
      "['Toy Story 2', 'Toy Story 3', 'Hawaiian Vacation', 'Small Fry', 'Toy Story of Terror!']\n"
     ]
    }
   ],
   "source": [
    "# Cargamos la matriz de comparación en una variable si es necsesario\n",
    "\n",
    "print(fr.sist_recomendacion(\"Toy Story\",texto,matriz_primeros_vecinos))"
   ]
  }
 ],
 "metadata": {
  "kernelspec": {
   "display_name": "Python 3",
   "language": "python",
   "name": "python3"
  },
  "language_info": {
   "codemirror_mode": {
    "name": "ipython",
    "version": 3
   },
   "file_extension": ".py",
   "mimetype": "text/x-python",
   "name": "python",
   "nbconvert_exporter": "python",
   "pygments_lexer": "ipython3",
   "version": "3.11.9"
  }
 },
 "nbformat": 4,
 "nbformat_minor": 2
}
